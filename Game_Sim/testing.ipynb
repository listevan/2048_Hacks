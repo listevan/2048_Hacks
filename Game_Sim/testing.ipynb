{
 "cells": [
  {
   "cell_type": "code",
   "execution_count": 4,
   "metadata": {},
   "outputs": [
    {
     "name": "stdout",
     "output_type": "stream",
     "text": [
      "gen'd at 1 0\n",
      "gen'd at 3 0\n",
      "[[0. 0. 0. 0.]\n",
      " [4. 0. 0. 0.]\n",
      " [0. 0. 0. 0.]\n",
      " [4. 0. 0. 0.]]\n"
     ]
    }
   ],
   "source": [
    "import game\n",
    "\n",
    "g = game.Game()\n",
    "\n",
    "g.display()"
   ]
  },
  {
   "cell_type": "code",
   "execution_count": 5,
   "metadata": {},
   "outputs": [
    {
     "name": "stdout",
     "output_type": "stream",
     "text": [
      "gen'd at 0 3\n",
      "[[0. 0. 0. 2.]\n",
      " [0. 0. 0. 0.]\n",
      " [0. 0. 0. 0.]\n",
      " [8. 0. 0. 0.]]\n"
     ]
    }
   ],
   "source": [
    "g.move(1)\n",
    "g.display()"
   ]
  },
  {
   "cell_type": "code",
   "execution_count": 6,
   "metadata": {},
   "outputs": [
    {
     "name": "stdout",
     "output_type": "stream",
     "text": [
      "gen'd at 2 0\n",
      "[[2. 0. 0. 0.]\n",
      " [0. 0. 0. 0.]\n",
      " [4. 0. 0. 0.]\n",
      " [8. 0. 0. 0.]]\n"
     ]
    }
   ],
   "source": [
    "g.move(3)\n",
    "g.display()"
   ]
  }
 ],
 "metadata": {
  "kernelspec": {
   "display_name": "HAXENV",
   "language": "python",
   "name": "python3"
  },
  "language_info": {
   "codemirror_mode": {
    "name": "ipython",
    "version": 3
   },
   "file_extension": ".py",
   "mimetype": "text/x-python",
   "name": "python",
   "nbconvert_exporter": "python",
   "pygments_lexer": "ipython3",
   "version": "3.9.19"
  }
 },
 "nbformat": 4,
 "nbformat_minor": 2
}
